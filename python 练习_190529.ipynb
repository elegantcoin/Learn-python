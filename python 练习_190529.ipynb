{
 "cells": [
  {
   "cell_type": "code",
   "execution_count": null,
   "metadata": {},
   "outputs": [],
   "source": [
    "#Python Hello World 实例\n",
    "print(\"hello world\")"
   ]
  },
  {
   "cell_type": "code",
   "execution_count": null,
   "metadata": {},
   "outputs": [],
   "source": [
    "#Python 数字求和\n",
    "num1=int(input(\"请输入加数：\"))\n",
    "num2=int(input(\"请输入加数：\"))\n",
    "sum= num1+ num2\n",
    "print(\"{0} + {1} = {2}\".format(num1,num2,sum))"
   ]
  },
  {
   "cell_type": "code",
   "execution_count": null,
   "metadata": {},
   "outputs": [],
   "source": [
    "#Python 平方根\n",
    "num1=int(input(\"请输入开方数：\"))\n",
    "result=num1**0.5\n",
    "print(result)"
   ]
  },
  {
   "cell_type": "code",
   "execution_count": null,
   "metadata": {},
   "outputs": [],
   "source": [
    "#Python 平方根2   math & cmath  \n",
    "from cmath import sqrt\n",
    "num1=int(input(\"请输入开方数：\"))\n",
    "result=sqrt(num1)\n",
    "print(result)"
   ]
  },
  {
   "cell_type": "code",
   "execution_count": null,
   "metadata": {},
   "outputs": [],
   "source": [
    "#Python 二次方程\n",
    "from cmath import sqrt\n",
    "a=float(input(\"请输入a：\"))\n",
    "b=float(input(\"请输入b：\"))\n",
    "c=float(input(\"请输入c：\"))\n",
    "\n",
    "mid=b**2-4*a*c\n",
    "\n",
    "result1=-b+sqrt(mid)\n",
    "result2=-b+sqrt(mid)\n",
    "print(\"结果1为：{0}  结果2为：{1}\".format(result1,result2))\n"
   ]
  },
  {
   "cell_type": "code",
   "execution_count": null,
   "metadata": {},
   "outputs": [],
   "source": [
    "#Python 计算三角形的面积  海伦公式\n",
    "\n",
    "from cmath import sqrt\n",
    "a=float(input(\"1请输入边长：\"))\n",
    "b=float(input(\"2请输入边长：\"))\n",
    "c=float(input(\"3请输入边长：\"))\n",
    "\n",
    "mid=(a+b+c)/2\n",
    "\n",
    "area=sqrt(mid*(mid-a)*(mid-b)*(mid-c))\n",
    "print(\"三角形面积为：{0}\".format(area))\n"
   ]
  },
  {
   "cell_type": "code",
   "execution_count": null,
   "metadata": {},
   "outputs": [],
   "source": [
    "#Python 计算圆的面积\n",
    "from cmath import pi\n",
    "\n",
    "a=input(\"请输入圆的半径：\")\n",
    "if a.isdigit():\n",
    "    area=pi*pow(float(a),2)\n",
    "    print(area)\n",
    "else:\n",
    "    print(\"error\")"
   ]
  },
  {
   "cell_type": "code",
   "execution_count": null,
   "metadata": {},
   "outputs": [],
   "source": [
    "#Python 随机数生成\n",
    "import random\n",
    "\n",
    "a=random.randint(1,100)\n",
    "b=input(\"请输入一个1-100的数：\")\n",
    "i=1\n",
    "if b.isdigit():\n",
    "    b=int(b)\n",
    "    while a!=b:\n",
    "        if a>b:\n",
    "            b=int(input(\"请输入一个较大的数：\"))\n",
    "        else:\n",
    "            b=int(input(\"请输入一个较小的数：\"))\n",
    "        print(\"第{0}次输入\".format(i))\n",
    "        i+1\n",
    "    else:\n",
    "        print(\"你赢了\")\n",
    "else:\n",
    "    print(\"error\")"
   ]
  },
  {
   "cell_type": "code",
   "execution_count": null,
   "metadata": {},
   "outputs": [],
   "source": [
    "#Python 摄氏温度 华氏温度相互转换  eval的应用\n",
    "\n",
    "a=input(\"请输入带符号的温度：\")\n",
    "\n",
    "if a[-1] in (\"C\",\"c\"):\n",
    "    f=1.8*eval(a[0:-1])+32\n",
    "    print(\"转换后的温度表示为：{0}华氏度\".format(c))\n",
    "elif  a[-1] in (\"F\",\"f\"):\n",
    "    c=(eval(a[0:-1])-32)/1.8\n",
    "    print(\"转换后的温度表示为：{0}摄氏度\".format(f))\n",
    "else:\n",
    "    print(\"输入错误\")"
   ]
  },
  {
   "cell_type": "code",
   "execution_count": null,
   "metadata": {},
   "outputs": [],
   "source": [
    "#Python 交换变量\n",
    "\n",
    "x=int(input(\"请输入x:\"))\n",
    "y=int(input(\"请输入y:\"))\n",
    "\n",
    "x,y=y,x\n",
    "\n",
    "print(x)\n",
    "print(y)"
   ]
  },
  {
   "cell_type": "code",
   "execution_count": null,
   "metadata": {},
   "outputs": [],
   "source": [
    "#Python 判断奇数偶数  while 无限循环 try 异常处理\n",
    "\n",
    "while True:\n",
    "    try:\n",
    "        num=int(input(\"请输入数字：\"))\n",
    "    except ValueError: #不是纯数字需要重新输入\n",
    "        print(\"不是整数\")\n",
    "        continue\n",
    "    if num%2==0:\n",
    "        print(\"{0}是偶数\".format(num))\n",
    "    else:\n",
    "        print(\"{0}是奇数\".format(num))\n"
   ]
  },
  {
   "cell_type": "code",
   "execution_count": null,
   "metadata": {},
   "outputs": [],
   "source": [
    "#Python 判断闰年  普通闰年:能被4整除但不能被100整除的年份为普通闰年。世纪闰年:能被400整除\n",
    "while True:\n",
    "    try:\n",
    "        year=int(input(\"输入年份：\"))\n",
    "    except ValueError:\n",
    "        year=int(input(\"请重新输入年份：\"))\n",
    "        continue\n",
    "    if year%4==0:\n",
    "        if year%100==0:\n",
    "            if year%400==0:\n",
    "                print(\"闰年\")\n",
    "            else:\n",
    "                print(\"不是闰年\")\n",
    "        else:\n",
    "            print(\"闰年\")\n",
    "    else:\n",
    "        print(\"不是闰年\")"
   ]
  },
  {
   "cell_type": "code",
   "execution_count": null,
   "metadata": {},
   "outputs": [],
   "source": [
    "#Python 判断闰年 内置函数    isleap\n",
    "import calendar\n",
    "year=int(input(\"输入年份：\"))\n",
    "\n",
    "check=calendar.isleap(year)\n",
    "if check==True:\n",
    "    print(\"闰年\")\n",
    "else:\n",
    "    print(\"不是闰年\")"
   ]
  },
  {
   "cell_type": "code",
   "execution_count": null,
   "metadata": {},
   "outputs": [],
   "source": [
    "#Python 质数判断\n",
    "num=int(input(\"请输入一个数字：\"))\n",
    "if num>1:\n",
    "    for i in range(2,num):\n",
    "        if num%i==0:\n",
    "            print(\"{0}不是质数\".format(num))\n",
    "            print(\"{0}*{1}是{2}\".format(i,num//i,num))\n",
    "            break\n",
    "        else:\n",
    "            print(\"{0}是质数\".format(num))\n",
    "else:\n",
    "    print(\"输入的数小于1\")\n"
   ]
  },
  {
   "cell_type": "code",
   "execution_count": null,
   "metadata": {},
   "outputs": [],
   "source": [
    "#Python 阶乘实例\n",
    "\n",
    "num=int(input(\"请输入一个数字：\"))\n",
    "\n",
    "factorial=1\n",
    "\n",
    "if num<0:\n",
    "    print(\"输入不合法\")\n",
    "elif num==0:\n",
    "    print(\"{0}的阶乘为：1\".format(num))\n",
    "else:\n",
    "    for i in range(1,num+1):  #注意range的默认起始为0，止于j-1\n",
    "        factorial=factorial*i\n",
    "    print(\"{0}的阶乘为：{1}\".format(num,factorial))"
   ]
  },
  {
   "cell_type": "code",
   "execution_count": null,
   "metadata": {},
   "outputs": [],
   "source": [
    "#Python 九九乘法表   制表符   print end：在最后一个值后附加的字符串，默认为换行符。\n",
    "for i in range(1,10):\n",
    "    for j in range(1,i+1):\n",
    "        print(\"{0}*{1}={2}\\t\".format(i,j,i*j),end=\"\")  #指定了结束不换行 只空格\n",
    "    print(\"\") #指定了结束换行"
   ]
  },
  {
   "cell_type": "code",
   "execution_count": null,
   "metadata": {},
   "outputs": [],
   "source": [
    "#Python 斐波那契数列  0, 1, 1, 2, 3, 5, 8, 13,   特殊情况处理 使用while和for循环\n",
    "\n",
    "num=int(input(\"请输入需要的项数：\"))\n",
    "n1=0\n",
    "n2=1\n",
    "count=2\n",
    "\n",
    "if num<=0:\n",
    "    print(\"输入数字不合法：\")\n",
    "elif num==1:\n",
    "    print(\"斐波那契数列为：0\")\n",
    "else:\n",
    "    print(\"斐波那契数列为：{0},{1},\".format(n1,n2),end=\"\")\n",
    "    for i in range(3,num+1):\n",
    "        nth=n1+n2\n",
    "        print(\"{0},\".format(nth),end=\"\")\n",
    "        n1=n2\n",
    "        n2=nth"
   ]
  },
  {
   "cell_type": "code",
   "execution_count": null,
   "metadata": {},
   "outputs": [],
   "source": [
    "#Python 斐波那契数列  0, 1, 1, 2, 3, 5, 8, 13,   特殊情况处理 使用while和for循环\n",
    "\n",
    "num=int(input(\"请输入需要的项数：\"))\n",
    "n1=0\n",
    "n2=1\n",
    "count=2\n",
    "\n",
    "if num<=0:\n",
    "    print(\"输入数字不合法：\")\n",
    "elif num==1:\n",
    "    print(\"斐波那契数列为：0\")\n",
    "else:\n",
    "    print(\"斐波那契数列为：{0},{1},\".format(n1,n2),end=\"\")\n",
    "    while count<num:\n",
    "        nth=n1+n2\n",
    "        print(\"{0},\".format(nth),end=\"\")\n",
    "        n1=n2\n",
    "        n2=nth\n",
    "        count+=1"
   ]
  },
  {
   "cell_type": "code",
   "execution_count": null,
   "metadata": {},
   "outputs": [],
   "source": [
    "#Python 使用递归斐波那契数列\n",
    "def fibo(n):\n",
    "    if n<=1:\n",
    "        return n\n",
    "    else:\n",
    "        return (fibo(n-1)+fibo(n-2))\n",
    "\n",
    "input1=int(input(\"需要输出几项：\"))\n",
    "if input1<=0:\n",
    "    print(\"请输入正数\")\n",
    "else:\n",
    "    print(\"斐波那契数列为：\")\n",
    "    for i in range(input1):\n",
    "        print(fibo(i),end=\",\")"
   ]
  },
  {
   "cell_type": "code",
   "execution_count": null,
   "metadata": {},
   "outputs": [],
   "source": []
  },
  {
   "cell_type": "code",
   "execution_count": null,
   "metadata": {},
   "outputs": [],
   "source": [
    "#Python 阿姆斯特朗数  判断  % 取余     //取整\n",
    "\n",
    "num=int(input(\"请输入给定数：\"))\n",
    "sum1=0\n",
    "n=len(str(num))\n",
    "\n",
    "temp=num\n",
    "while temp>0:\n",
    "    digit=temp%10\n",
    "    sum1+=digit**n\n",
    "    temp//=10\n",
    "if sum1==num:\n",
    "    print(\"是阿姆斯特朗数\")\n",
    "else:\n",
    "    print(\"不是阿姆斯特朗数\")"
   ]
  },
  {
   "cell_type": "code",
   "execution_count": null,
   "metadata": {},
   "outputs": [],
   "source": [
    "#Python 十进制转二进制、八进制、十六进制\n",
    "\n",
    "num=int(input(\"请输入给定数：\"))\n",
    "\n",
    "print(\"{0}转换为二进制为：{1},\".format(num,bin(num)))\n",
    "print(\"{0}转换为八进制为：{1},\".format(num,oct(num)))\n",
    "print(\"{0}转换为十六进制为：{1},\".format(num,hex(num)))"
   ]
  },
  {
   "cell_type": "code",
   "execution_count": null,
   "metadata": {},
   "outputs": [],
   "source": [
    "#Python ASCII码与字符相互转换\n",
    "\n",
    "c=input(\"请输入字符：\")\n",
    "a=int(input(\"请输入字符的ASCII 码：\"))\n",
    "\n",
    "print(c,\"对应的的ASCII码为：\",ord(c))\n",
    "print(\"a\",\"对应的的ASCII码为：\",chr(a))\n"
   ]
  },
  {
   "cell_type": "code",
   "execution_count": null,
   "metadata": {},
   "outputs": [],
   "source": [
    "#Python 最大公约数算法  定义函数\n",
    "\n",
    "def mcd(x,y):\n",
    "    if x>y:\n",
    "        smaller=y\n",
    "    else:\n",
    "        smaller=x\n",
    "    for i in range(1,smaller+1):\n",
    "        if (x%i==0) and (y % i==0):\n",
    "            mcd=i\n",
    "    return mcd\n",
    "\n",
    "num1=int(input(\"请输入第一个数：\"))\n",
    "num2=int(input(\"请输入第二个数：\"))\n",
    "\n",
    "print(\"{0}和{1}的公约数为{2}\".format(num1,num2,mcd(num1,num2)))"
   ]
  },
  {
   "cell_type": "code",
   "execution_count": null,
   "metadata": {},
   "outputs": [],
   "source": [
    "#Python 最小公倍数算法  定义函数   注意是无界的  要用while\n",
    "\n",
    "def lcm(x,y):\n",
    "    if x>y:\n",
    "        bigger=x\n",
    "    else:\n",
    "        bigger=y\n",
    "        \n",
    "    while True:\n",
    "        if (bigger%x==0) and (bigger%y==0):\n",
    "            lcm=bigger\n",
    "            break\n",
    "        bigger+=1\n",
    "    return lcm\n",
    "num1=int(input(\"请输入第一个数：\"))\n",
    "num2=int(input(\"请输入第二个数：\"))\n",
    "\n",
    "print(\"{0}和{1}的最小公倍数为{2}\".format(num1,num2,lcm(num1,num2)))"
   ]
  },
  {
   "cell_type": "code",
   "execution_count": null,
   "metadata": {},
   "outputs": [],
   "source": [
    "#Python 简单计算器实现\n",
    "def add(x,y):\n",
    "    return (x+y)\n",
    "def subtract(x,y):\n",
    "    return (x-y)\n",
    "def multiply(x,y):\n",
    "    return (x*y)\n",
    "def devide(x,y):\n",
    "    return (x/y)\n",
    "\n",
    "choose=int(input(\"选择运算符：1.加 2. 减 3. 乘 4. 初\")) \n",
    "num1=int(input(\"请输入第一个数：\"))\n",
    "num2=int(input(\"请输入第二个数：\"))\n",
    "\n",
    "if choose==1:\n",
    "    print(num1,\"+\",num2,\"=\",add(num1,num2))\n",
    "if choose==2:\n",
    "    print(num1,\"-\",num2,\"=\",subtract(num1,num2))\n",
    "if choose==3:\n",
    "    print(num1,\"*\",num2,\"=\",multiply(num1,num2))\n",
    "if choose==4:\n",
    "    print(num1,\"/\",num2,\"=\",devide(num1,num2))\n"
   ]
  },
  {
   "cell_type": "code",
   "execution_count": null,
   "metadata": {},
   "outputs": [],
   "source": [
    "#Python 生成日历  calendar.month函数\n",
    "\n",
    "import calendar\n",
    "yy = int(input(\"输入年份: \"))\n",
    "mm = int(input(\"输入月份: \"))\n",
    " \n",
    "print(calendar.month(yy,mm))"
   ]
  },
  {
   "cell_type": "code",
   "execution_count": null,
   "metadata": {},
   "outputs": [],
   "source": [
    "#Python 文件 IO 读写\n",
    "with open(\"test.txt\",\"rt\") as in_file:\n",
    "    text=in_file.read()\n",
    "print(text)"
   ]
  },
  {
   "cell_type": "code",
   "execution_count": null,
   "metadata": {},
   "outputs": [],
   "source": [
    "#Python 文件 IO 读写\n",
    "with open(\"test.txt\",\"wt\") as out_file:\n",
    "    out_file.write(\"林毅 12 LL king\")\n",
    "print(text)"
   ]
  },
  {
   "cell_type": "code",
   "execution_count": null,
   "metadata": {},
   "outputs": [],
   "source": [
    "#Python 字符串判断\n",
    "str = \"au111Oob.com\"\n",
    "print(str.isalnum())  # 判断所有字符都是数字或者字母\n",
    "print(str.isalpha())  # 判断所有字符都是字母\n",
    "print(str.isdigit())  # 判断所有字符都是数字\n",
    "print(str.isupper())  # 判断所有字符都是大写\n",
    "print(str.islower())  # 判断所有字符都是小写\n",
    "print(str.istitle())  # 判断所有字符都是标题\n",
    "print(str.isspace())  # 判断所有字符都是空白字符 \\t \\n  \\r"
   ]
  },
  {
   "cell_type": "code",
   "execution_count": null,
   "metadata": {},
   "outputs": [],
   "source": [
    "#Python 字符串大小写转换\n",
    "\n",
    "str = \"au111Oob.com\"\n",
    "print(str.upper())\n",
    "print(str.lower())\n",
    "print(str.title())\n",
    "print(str.capitalize())\n"
   ]
  },
  {
   "cell_type": "code",
   "execution_count": null,
   "metadata": {},
   "outputs": [],
   "source": [
    "#Python 计算每个月天数 calendar.monthrange\n",
    "# 第一个元素是所查月份的第一天对应的是星期几（0-6），第二个元素是这个月的天数\n",
    "\n",
    "import calendar\n",
    "monthrange1=calendar.monthrange(2019,9)\n",
    "print(monthrange1)"
   ]
  },
  {
   "cell_type": "code",
   "execution_count": null,
   "metadata": {},
   "outputs": [],
   "source": [
    "#Python 获取前天日期 timedelta\n",
    "import datetime\n",
    "def caldate():\n",
    "    today=datetime.date.today()\n",
    "    twoday=datetime.timedelta(days=2)\n",
    "    date2=today-twoday\n",
    "    return(date2)\n",
    "print(caldate())"
   ]
  },
  {
   "cell_type": "code",
   "execution_count": 57,
   "metadata": {},
   "outputs": [
    {
     "name": "stdout",
     "output_type": "stream",
     "text": [
      "2019-05-30 15:43:51\n"
     ]
    }
   ],
   "source": [
    "# Python 获取几天前的时间\n",
    "import time\n",
    "import datetime\n",
    "\n",
    "threedaysago=datetime.datetime.now()-datetime.timedelta(days=3)\n",
    "timestamp=int(time.mktime(threedaysago.timetuple()))\n",
    "otherstyle=threedaysago.strftime(\"%Y-%m-%d %H:%M:%S\")\n",
    "print(otherstyle)\n"
   ]
  },
  {
   "cell_type": "code",
   "execution_count": null,
   "metadata": {},
   "outputs": [],
   "source": [
    "# Python list 常用操作   NoneType 原因：append会修改a本身，并且返回None。不能把返回值再赋值给a。\n",
    "\n",
    "li = [\"a\", \"b\", \"mpilgrim\", \"z\", \"example\"]\n",
    "\n",
    "# 1.list定义\n",
    "\n",
    "print(li[1])\n",
    "print(li[-1])\n",
    "\n",
    "# 2.list 负数索引\n",
    "print(li[-3:-1])\n",
    "print(li[0:-1])\n",
    "\n",
    "# 3.list 增加元素\n",
    "a_list = [1,2,3,4,5,6,7,8]\n",
    "\n",
    "a_list.insert(2,11)  # 不能用 li= li.append() 形式\n",
    "print(a_list)\n",
    "\n",
    "a_list.append(12)\n",
    "print(a_list)\n",
    "\n",
    "a_list.extend([22,21])  #extend 只能增加一个元素 多个时写成数组形式\n",
    "print(a_list)\n"
   ]
  },
  {
   "cell_type": "code",
   "execution_count": null,
   "metadata": {},
   "outputs": [],
   "source": [
    "# Python list 常用操作  \n",
    "li = [\"a\", \"b\", \"mpilgrim\", \"a\", \"b\", \"mpilgrim\",\"z\", \"example\"]\n",
    "\n",
    "# 4.list 搜索\n",
    "li.index(\"a\")\n",
    "\n",
    "# 5.list 删除元素\n",
    "li.remove(\"z\")\n",
    "li\n",
    "li.pop()\n",
    "li\n",
    "\n",
    "# 6.list 运算符\n",
    "li = ['a', 'b', 'mpilgrim']\n",
    "li=li+[\"aaa\",\"s\"]\n",
    "\n",
    "li=[1,2]*5\n",
    "li\n"
   ]
  },
  {
   "cell_type": "code",
   "execution_count": null,
   "metadata": {},
   "outputs": [],
   "source": [
    "# Python list 常用操作\n",
    "# 7.使用join链接list成为字符串  \n",
    "\n",
    "params = {\"server\":\"mpilgrim\", \"database\":\"master\", \"uid\":\"sa\", \"pwd\":\"secret\"}\n",
    "\"----*----\".join(params)\n",
    "\n",
    "# 8.list 分割字符串\n",
    "c_list = [\"server\",\"mpilgrim\", \"database\",\"master\", \"uid\",\"sa\", \"pwd\",\"secret\"]\n",
    "s=\"*\".join(c_list)\n",
    "s.split(\"*\")"
   ]
  },
  {
   "cell_type": "code",
   "execution_count": null,
   "metadata": {},
   "outputs": [],
   "source": [
    "# Python list 常用操作\n",
    "# 9.list 的映射解析  \n",
    "# 10.过滤\n",
    "\n",
    "li =[1,2,3,4,5]\n",
    "[elem**2 for elem in li if elem>3]"
   ]
  },
  {
   "cell_type": "code",
   "execution_count": 1,
   "metadata": {},
   "outputs": [
    {
     "name": "stdout",
     "output_type": "stream",
     "text": [
      "9号下船了\n",
      "18号下船了\n",
      "27号下船了\n",
      "6号下船了\n",
      "16号下船了\n",
      "26号下船了\n",
      "7号下船了\n",
      "19号下船了\n",
      "30号下船了\n",
      "12号下船了\n",
      "24号下船了\n",
      "8号下船了\n",
      "22号下船了\n",
      "5号下船了\n",
      "23号下船了\n"
     ]
    }
   ],
   "source": [
    "# Python 约瑟夫生者死者小游戏\n",
    "\n",
    "people={}\n",
    "for i in range(1,31):\n",
    "    people[i]=1\n",
    "\n",
    "check=0\n",
    "i=1\n",
    "j=0\n",
    "while i<=31:\n",
    "    if i==31:\n",
    "        i=1\n",
    "    elif j==15:\n",
    "        break\n",
    "    else:\n",
    "        if people[i]==0: #已经下船则跳过\n",
    "            i+=1\n",
    "            continue\n",
    "        else:\n",
    "            check+=1  #报数\n",
    "            if check==9:  #满足报数条件 则要标记下船 然后重新报数 下船的人数加一  \n",
    "                people[i]=0\n",
    "                check=0\n",
    "                print(\"{}号下船了\".format(i))\n",
    "                j+=1\n",
    "            else:\n",
    "                i+=1\n",
    "                continue"
   ]
  },
  {
   "cell_type": "code",
   "execution_count": null,
   "metadata": {},
   "outputs": [],
   "source": [
    "# Python 实现秒表功能    time.time() 计时\n",
    "\n",
    "import time\n",
    "print(\"按回车开始，按Ctrl + C 停止\")\n",
    "while True:\n",
    "    try:\n",
    "        input()\n",
    "        starttime=time.time()\n",
    "        print(\"开始\")\n",
    "        while True:\n",
    "            print(\"计时：\",round(time.time()-starttime,0),\"秒\",end=\"\\r\")\n",
    "            time.sleep(1)\n",
    "    except KeyboardInterrupt:\n",
    "        print(\"结束\")\n",
    "        endtime=time.time()\n",
    "        print(\"总共时间为：\",round(endtime-starttime,2),\"秒\")\n",
    "        break\n"
   ]
  },
  {
   "cell_type": "code",
   "execution_count": 8,
   "metadata": {},
   "outputs": [
    {
     "name": "stdout",
     "output_type": "stream",
     "text": [
      "请输入你想要的项数：2\n",
      "9\n"
     ]
    }
   ],
   "source": [
    "#Python 计算 n 个自然数的立方和\n",
    "def sumofseries(n):\n",
    "    sum=0  # 注意初始化\n",
    "    for i in range(1,n+1):\n",
    "        sum+=i*i*i\n",
    "    return sum  #函数需要返回\n",
    "\n",
    "num=int(input(\"请输入你想要的项数：\"))\n",
    "print(sumofseries(num))"
   ]
  },
  {
   "cell_type": "code",
   "execution_count": 10,
   "metadata": {},
   "outputs": [
    {
     "name": "stdout",
     "output_type": "stream",
     "text": [
      "15\n"
     ]
    }
   ],
   "source": [
    "# Python 计算数组元素之和\n",
    "\n",
    "def sumofarr(arr):\n",
    "    return (sum(arr))\n",
    "\n",
    "arr=[1,2,3,4,5]\n",
    "print(sumofarr(arr))"
   ]
  },
  {
   "cell_type": "code",
   "execution_count": 14,
   "metadata": {},
   "outputs": [
    {
     "data": {
      "text/plain": [
       "[4, 5, 6, 7, 1, 2, 3]"
      ]
     },
     "execution_count": 14,
     "metadata": {},
     "output_type": "execute_result"
    }
   ],
   "source": [
    "#Python 数组翻转指定个数的元素   每次瞬移一个\n",
    "\n",
    "def leftrotate(arr,d,n):\n",
    "    for i in range(d):\n",
    "        leftrotatebyone(arr,n)\n",
    "    return arr\n",
    "def leftrotatebyone(arr,n):\n",
    "    temp=arr[0]\n",
    "    for i in range(n-1):\n",
    "        arr[i]=arr[i+1]\n",
    "    arr[n-1]=temp\n",
    "\n",
    "array = [1, 2, 3, 4, 5, 6, 7]\n",
    "leftrotate(array,3,7)\n",
    "        "
   ]
  },
  {
   "cell_type": "code",
   "execution_count": 16,
   "metadata": {},
   "outputs": [
    {
     "data": {
      "text/plain": [
       "[7, 2, 3, 4, 5, 6, 1]"
      ]
     },
     "execution_count": 16,
     "metadata": {},
     "output_type": "execute_result"
    }
   ],
   "source": [
    "# Python 将列表中的头尾两个元素对调\n",
    "def rotatese(arr,n):\n",
    "    temp=arr[0]\n",
    "    arr[0]=arr[n-1]\n",
    "    arr[n-1]=temp\n",
    "    return arr\n",
    "\n",
    "array = [1, 2, 3, 4, 5, 6, 7]\n",
    "rotatese(array,7)"
   ]
  },
  {
   "cell_type": "code",
   "execution_count": 17,
   "metadata": {},
   "outputs": [
    {
     "name": "stdout",
     "output_type": "stream",
     "text": [
      "[7, 2, 3, 4, 5, 6, 1]\n"
     ]
    }
   ],
   "source": [
    "# Python 将列表中的头尾两个元素对调\n",
    "\n",
    "def swapList(list): \n",
    "    get = list[-1], list[0] \n",
    "    list[0], list[-1] = get \n",
    "    return list\n",
    "      \n",
    "newList = [1, 2, 3, 4, 5, 6, 7]\n",
    "print(swapList(newList))"
   ]
  },
  {
   "cell_type": "code",
   "execution_count": 20,
   "metadata": {},
   "outputs": [
    {
     "name": "stdout",
     "output_type": "stream",
     "text": [
      "[7, 6, 5, 4, 3, 2, 1]\n"
     ]
    }
   ],
   "source": [
    "# Python 翻转列表\n",
    "def reverselist(arr):\n",
    "    arr.reverse()\n",
    "    return (arr)\n",
    "\n",
    "newList = [1, 2, 3, 4, 5, 6, 7]\n",
    "print(reverselist(newList))\n"
   ]
  },
  {
   "cell_type": "code",
   "execution_count": 21,
   "metadata": {},
   "outputs": [
    {
     "name": "stdout",
     "output_type": "stream",
     "text": [
      "6\n"
     ]
    }
   ],
   "source": [
    "# Python 计算元素在列表中出现的次数\n",
    "def listcount(lst,x): \n",
    "    return(lst.count(x))\n",
    "\n",
    "newList = [1, 2, 3, 4, 5, 6, 7,7,8,9,7,2,7,7,7,9]\n",
    "print(listcount(newList,7))"
   ]
  },
  {
   "cell_type": "code",
   "execution_count": 23,
   "metadata": {},
   "outputs": [
    {
     "name": "stdout",
     "output_type": "stream",
     "text": [
      "74\n"
     ]
    }
   ],
   "source": [
    "# Python 计算列表元素之和\n",
    "\n",
    "def sumarr(arr):\n",
    "    sum=0\n",
    "    for elem in arr:\n",
    "        sum+=elem\n",
    "    return(sum)\n",
    "\n",
    "newList = [11, 5, 17, 18, 23] \n",
    "print(sumarr(newList))"
   ]
  },
  {
   "cell_type": "code",
   "execution_count": 24,
   "metadata": {},
   "outputs": [
    {
     "name": "stdout",
     "output_type": "stream",
     "text": [
      "6\n"
     ]
    }
   ],
   "source": [
    "# Python 计算列表元素之积\n",
    "\n",
    "def multiarr(arr):\n",
    "    result=1\n",
    "    for elem in arr:\n",
    "        result*=elem\n",
    "    return(result)\n",
    "\n",
    "list1 = [1, 2, 3]\n",
    "print(multiarr(list1))"
   ]
  },
  {
   "cell_type": "code",
   "execution_count": 27,
   "metadata": {},
   "outputs": [
    {
     "name": "stdout",
     "output_type": "stream",
     "text": [
      "2\n",
      "100\n"
     ]
    }
   ],
   "source": [
    "# Python 查找列表中最小、最大元素\n",
    "\n",
    "list1 = [100, 2, 3]\n",
    "print(min(list1))\n",
    "print(max(list1))"
   ]
  },
  {
   "cell_type": "code",
   "execution_count": 30,
   "metadata": {},
   "outputs": [
    {
     "name": "stdout",
     "output_type": "stream",
     "text": [
      "原字符串为：Runoob\n",
      "删除第几位置的字符串3\n",
      "Ruoob\n"
     ]
    }
   ],
   "source": [
    "# Python 移除字符串中的指定位置字符\n",
    "\n",
    "test_str = \"Runoob\"\n",
    "print(\"原字符串为：\"+test_str)\n",
    "\n",
    "num=int(input(\"删除第几位置的字符串\"))\n",
    "if num< len(test_str):\n",
    "    new_str=\"\"\n",
    "    for i in range(0,len(test_str)):\n",
    "        if i != num-1:\n",
    "            new_str +=test_str[i]\n",
    "print(new_str)\n"
   ]
  },
  {
   "cell_type": "code",
   "execution_count": null,
   "metadata": {},
   "outputs": [],
   "source": [
    "# Python 判断字符串是否存在子字符串\n",
    "def checkstr(string,sub_string):\n",
    "    if (string.find(sub_string)== -1):\n",
    "        print(\"不存在\")\n",
    "    else:\n",
    "        print(\"存在\")\n",
    "        \n",
    "string1=\"www.baidu.com\"\n",
    "string2 =\"baidu\"\n",
    "\n",
    "print(checkstr(string1,string2))\n",
    "        "
   ]
  },
  {
   "cell_type": "code",
   "execution_count": null,
   "metadata": {},
   "outputs": [],
   "source": [
    "# Python 判断字符串长度\n",
    "def lengtharr(str):\n",
    "    counter=0\n",
    "    while str[counter:]:\n",
    "        counter+=1\n",
    "    return counter\n",
    "\n",
    "string1=\"www.baidu.com\"\n",
    "\n",
    "print(lengtharr(string1))"
   ]
  },
  {
   "cell_type": "code",
   "execution_count": 15,
   "metadata": {},
   "outputs": [
    {
     "name": "stdout",
     "output_type": "stream",
     "text": [
      "Urls:  ['https://www.runoob.com', 'https://www.google.com']\n"
     ]
    }
   ],
   "source": [
    "# Python 使用正则表达式提取字符串中的 URL\n",
    "\n",
    "import re\n",
    "def findstr(string):\n",
    "    url=re.findall(\"https?://(?:[-\\w.]|(?:%[\\da-fA-F]{2}))+\",string)\n",
    "    return url\n",
    "\n",
    "string= 'Runoob 的网页地址为：https://www.runoob.com，Google 的网页地址为：https://www.google.com'\n",
    "print(\"Urls: \", findstr(string))"
   ]
  },
  {
   "cell_type": "code",
   "execution_count": 19,
   "metadata": {},
   "outputs": [
    {
     "name": "stdout",
     "output_type": "stream",
     "text": [
      "moc.elgoog.www//:sptth：为址地页网的 elgooG，moc.boonur.www//:sptth：为址地页网的 boonuR\n",
      "moc.elgoog.www//:sptth：为址地页网的 elgooG，moc.boonur.www//:sptth：为址地页网的 boonuR\n"
     ]
    }
   ],
   "source": [
    "# Python 字符串翻转  \n",
    "\n",
    "string= 'Runoob 的网页地址为：https://www.runoob.com，Google 的网页地址为：https://www.google.com'\n",
    "print(string[::-1])\n",
    "print(''.join(reversed(string)))\n"
   ]
  },
  {
   "cell_type": "code",
   "execution_count": 24,
   "metadata": {},
   "outputs": [
    {
     "name": "stdout",
     "output_type": "stream",
     "text": [
      "左翻转后为： s://www.google.comhttp\n",
      "右翻转后为： .comhttps://www.google\n"
     ]
    }
   ],
   "source": [
    "# Python 对字符串切片及翻转\n",
    "def cutrotate(string,n):\n",
    "    Lfirst=string[0:n]\n",
    "    Lsecond=string[n:]\n",
    "    Rfirst=string[0:len(string)-n]\n",
    "    Rsecond=string[len(string)-n:]\n",
    "    print(\"左翻转后为：\",(Lsecond+Lfirst))\n",
    "    print(\"右翻转后为：\",(Rsecond+Rfirst))\n",
    "    \n",
    "if __name__==\"__main__\":\n",
    "    string= 'https://www.google.com'\n",
    "    d=4\n",
    "    cutrotate(string,d)"
   ]
  },
  {
   "cell_type": "code",
   "execution_count": 31,
   "metadata": {},
   "outputs": [
    {
     "name": "stdout",
     "output_type": "stream",
     "text": [
      "按键值排序\n",
      "(1, 12) (2, 22) (3, 76) (5, 210) (6, 65) "
     ]
    }
   ],
   "source": [
    "# Python 按键(key)或值(value)对字典进行排序\n",
    "def dictionary():\n",
    "    key_value={}\n",
    "    key_value[2]=100\n",
    "    key_value[1]=12\n",
    "    key_value[6]=65\n",
    "    key_value[2]=22\n",
    "    key_value[3]=76\n",
    "    key_value[5]=210\n",
    "    print(\"按键值排序\")\n",
    "    for i in sorted(key_value):\n",
    "        print((i,key_value[i]),end=\" \")\n",
    "def main():\n",
    "    dictionary()\n",
    "\n",
    "if __name__==\"__main__\":\n",
    "    main()"
   ]
  },
  {
   "cell_type": "code",
   "execution_count": 35,
   "metadata": {},
   "outputs": [
    {
     "name": "stdout",
     "output_type": "stream",
     "text": [
      "1864\n"
     ]
    }
   ],
   "source": [
    "# Python 计算字典值之和\n",
    "def sumdict(dict):\n",
    "    sum=0\n",
    "    for i in dict:\n",
    "        sum+=dict[i]\n",
    "    return sum\n",
    "\n",
    "mydict={\"a\":1,\"b\":431,\"c\":211,\"d\":1221}\n",
    "print(sumdict(mydict))"
   ]
  },
  {
   "cell_type": "code",
   "execution_count": 46,
   "metadata": {},
   "outputs": [
    {
     "name": "stdout",
     "output_type": "stream",
     "text": [
      "移除前{'a': 1, 'b': 431, 'c': 211, 'd': 1221}\n",
      "移除后{'a': 1, 'b': 431, 'd': 1221}\n"
     ]
    }
   ],
   "source": [
    "# Python 移除字典点键值(key/value)对\n",
    "\n",
    "mydict={\"a\":1,\"b\":431,\"c\":211,\"d\":1221}\n",
    "print(\"移除前\"+str(mydict))\n",
    "removed_value = mydict.pop('c')\n",
    "print(\"移除后\"+str(mydict))"
   ]
  },
  {
   "cell_type": "code",
   "execution_count": 48,
   "metadata": {},
   "outputs": [
    {
     "name": "stdout",
     "output_type": "stream",
     "text": [
      "{'e': 1, 'f': 431, 'g': 211, 'h': 1221, 'a': 1, 'b': 431, 'c': 211, 'd': 1221}\n"
     ]
    }
   ],
   "source": [
    "# Python 合并字典\n",
    "def merge(dict1,dict2):\n",
    "    dict2.update(dict1)\n",
    "    return (dict2)   # 注意这里的用法 如果直接返回dict2.update(dict1) 返回None\n",
    "\n",
    "mydict1={\"a\":1,\"b\":431,\"c\":211,\"d\":1221}\n",
    "mydict2={\"e\":1,\"f\":431,\"g\":211,\"h\":1221}\n",
    "print(merge(mydict1,mydict2))"
   ]
  },
  {
   "cell_type": "code",
   "execution_count": 49,
   "metadata": {},
   "outputs": [
    {
     "name": "stdout",
     "output_type": "stream",
     "text": [
      "{'a': 1, 'b': 431, 'c': 211, 'd': 1221, 'e': 212, 'f': 44, 'g': 76, 'h': 3}\n"
     ]
    }
   ],
   "source": [
    "# Python 合并字典 2  **用法\n",
    "\n",
    "def merge1(dict1,dict2):\n",
    "    result={**dict1,**dict2}\n",
    "    return result\n",
    "\n",
    "\n",
    "mydict1={\"a\":1,\"b\":431,\"c\":211,\"d\":1221}\n",
    "mydict2={\"e\":212,\"f\":44,\"g\":76,\"h\":3}\n",
    "print(merge1(mydict1,mydict2))"
   ]
  },
  {
   "cell_type": "code",
   "execution_count": 56,
   "metadata": {},
   "outputs": [
    {
     "name": "stdout",
     "output_type": "stream",
     "text": [
      "1557502800\n"
     ]
    }
   ],
   "source": [
    "# Python 将字符串的时间转换为时间戳\n",
    "import time\n",
    "a1 = \"2019-5-10 23:40:00\"\n",
    "timearray=time.strptime(a1,\"%Y-%m-%d %H:%M:%S\")  # 注意大小写\n",
    "timestamp= int(time.mktime(timearray))\n",
    "print(timestamp)"
   ]
  },
  {
   "cell_type": "code",
   "execution_count": 58,
   "metadata": {},
   "outputs": [
    {
     "name": "stdout",
     "output_type": "stream",
     "text": [
      "2019-06-02 15:48:40\n"
     ]
    }
   ],
   "source": [
    "# Python 将时间戳转换为指定格式日期\n",
    "import time\n",
    "now=int(time.time())\n",
    "timearray=time.localtime(now)\n",
    "\n",
    "otherstyle=time.strftime(\"%Y-%m-%d %H:%M:%S\",timearray)\n",
    "print(otherstyle)"
   ]
  },
  {
   "cell_type": "code",
   "execution_count": 65,
   "metadata": {},
   "outputs": [
    {
     "name": "stdout",
     "output_type": "stream",
     "text": [
      "..#....#..\n",
      "..##...#..\n",
      "..#.#..#..\n",
      "..#..#.#..\n",
      "..#...##..\n"
     ]
    }
   ],
   "source": [
    "# Python 打印自己的字体\n",
    "\n",
    "# N\n",
    "print(\"..#....#..\\n..##...#..\\n..#.#..#..\\n..#..#.#..\\n..#...##..\\n\",end=\"\")\n",
    "    "
   ]
  },
  {
   "cell_type": "code",
   "execution_count": 68,
   "metadata": {},
   "outputs": [
    {
     "name": "stdout",
     "output_type": "stream",
     "text": [
      "元素索引为为： 3\n"
     ]
    }
   ],
   "source": [
    "# Python 二分查找\n",
    "def binarysearch(arr,m,n,x):\n",
    "    if n>=m:\n",
    "        mid=int(m+(n-m)/2)\n",
    "        if arr[mid]==x:\n",
    "             return mid\n",
    "        elif arr[mid]>x:\n",
    "             return binarysearch(arr,m,mid-1,x)\n",
    "        else:\n",
    "            return binarysearch(arr,mid+1,n,x)\n",
    "    else:\n",
    "        return -1\n",
    "    \n",
    "arr = [ 2, 3, 4, 10, 40 ] \n",
    "x = 10\n",
    "result=binarysearch(arr,0,len(arr)-1,x)\n",
    "if result != -1:\n",
    "    print(\"元素索引为为：\",result)\n",
    "else:\n",
    "    print(\"不存在\")\n",
    "    "
   ]
  },
  {
   "cell_type": "code",
   "execution_count": 80,
   "metadata": {},
   "outputs": [
    {
     "name": "stdout",
     "output_type": "stream",
     "text": [
      "元素索引为为： 3\n"
     ]
    }
   ],
   "source": [
    "# Python 线性查找\n",
    "\n",
    "def search(arr,x):\n",
    "    for i in range(len(arr)):\n",
    "        if (arr[i]==x):\n",
    "            return i\n",
    "    return -1\n",
    "\n",
    "arr = [ 2, 3, 4, 10, 40 ] \n",
    "x = 10\n",
    "result=search(arr,x)\n",
    "if result != -1:\n",
    "    print(\"元素索引为为：\",result)\n",
    "else:\n",
    "    print(\"不存在\")"
   ]
  },
  {
   "cell_type": "code",
   "execution_count": 91,
   "metadata": {},
   "outputs": [
    {
     "name": "stdout",
     "output_type": "stream",
     "text": [
      "[2, 10, 32, 40, 42]\n"
     ]
    }
   ],
   "source": [
    "# Python 插入排序  1.\n",
    "\n",
    "def insertsort(arr):\n",
    "    for i in range(1,len(arr)):  #第一个不需要排序\n",
    "        key=arr[i]\n",
    "        j=i-1\n",
    "        while j>=0 and key<arr[j]:\n",
    "            arr[j+1]=arr[j]\n",
    "            j -= 1\n",
    "        arr[j+1]=key\n",
    "\n",
    "arr = [ 2, 32, 42, 10, 40 ] \n",
    "insertsort(arr)  # 只进行操作 不返回值\n",
    "print(arr)"
   ]
  },
  {
   "cell_type": "code",
   "execution_count": null,
   "metadata": {},
   "outputs": [],
   "source": []
  },
  {
   "cell_type": "code",
   "execution_count": null,
   "metadata": {},
   "outputs": [],
   "source": []
  }
 ],
 "metadata": {
  "kernelspec": {
   "display_name": "Python 3",
   "language": "python",
   "name": "python3"
  },
  "language_info": {
   "codemirror_mode": {
    "name": "ipython",
    "version": 3
   },
   "file_extension": ".py",
   "mimetype": "text/x-python",
   "name": "python",
   "nbconvert_exporter": "python",
   "pygments_lexer": "ipython3",
   "version": "3.6.4"
  }
 },
 "nbformat": 4,
 "nbformat_minor": 2
}
